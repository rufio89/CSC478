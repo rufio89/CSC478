{
 "cells": [
  {
   "cell_type": "code",
   "execution_count": 16,
   "metadata": {
    "collapsed": true
   },
   "outputs": [],
   "source": [
    "import numpy as np\n",
    "import os"
   ]
  },
  {
   "cell_type": "code",
   "execution_count": 17,
   "metadata": {
    "collapsed": false
   },
   "outputs": [
    {
     "data": {
      "text/plain": [
       "'/home/ryan/Documents/CSC478'"
      ]
     },
     "execution_count": 17,
     "metadata": {},
     "output_type": "execute_result"
    }
   ],
   "source": [
    "os.getcwd()"
   ]
  },
  {
   "cell_type": "code",
   "execution_count": 18,
   "metadata": {
    "collapsed": true
   },
   "outputs": [],
   "source": [
    "os.chdir(\"/home/ryan/Documents/CSC478/Lecture2/\")"
   ]
  },
  {
   "cell_type": "code",
   "execution_count": 19,
   "metadata": {
    "collapsed": false
   },
   "outputs": [
    {
     "name": "stdout",
     "output_type": "stream",
     "text": [
      "[1900, 30000.0, 4000.0, 48300.0]\n",
      "[1901, 47200.0, 6100.0, 48200.0]\n",
      "[1902, 70200.0, 9800.0, 41500.0]\n",
      "[1903, 77400.0, 35200.0, 38200.0]\n",
      "[1904, 36300.0, 59400.0, 40600.0]\n",
      "[1905, 20600.0, 41700.0, 39800.0]\n",
      "[1906, 18100.0, 19000.0, 38600.0]\n",
      "[1907, 21400.0, 13000.0, 42300.0]\n",
      "[1908, 22000.0, 8300.0, 44500.0]\n",
      "[1909, 25400.0, 9100.0, 42100.0]\n",
      "[1910, 27100.0, 7400.0, 46000.0]\n",
      "[1911, 40300.0, 8000.0, 46800.0]\n",
      "[1912, 57000.0, 12300.0, 43800.0]\n",
      "[1913, 76600.0, 19500.0, 40900.0]\n",
      "[1914, 52300.0, 45700.0, 39400.0]\n",
      "[1915, 19500.0, 51100.0, 39000.0]\n",
      "[1916, 11200.0, 29700.0, 36700.0]\n",
      "[1917, 7600.0, 15800.0, 41800.0]\n",
      "[1918, 14600.0, 9700.0, 43300.0]\n",
      "[1919, 16200.0, 10100.0, 41300.0]\n",
      "[1920, 24700.0, 8600.0, 47300.0]\n",
      "21\n"
     ]
    }
   ],
   "source": [
    "datafile = open(\"populations.txt\", \"r\")\n",
    "\n",
    "labels_line = datafile.readline().strip()\n",
    "poptable = []\n",
    "\n",
    "total = 0\n",
    "\n",
    "for line in datafile.readlines():\n",
    "    line = line.strip()\n",
    "    row = line.split(\"\\t\")\n",
    "    record = [int(row[0]), float(row[1]), float(row[2]), float(row[3])]\n",
    "    print record\n",
    "    poptable.append(record)\n",
    "    total += 1\n",
    "    \n",
    "print total"
   ]
  },
  {
   "cell_type": "code",
   "execution_count": 20,
   "metadata": {
    "collapsed": false
   },
   "outputs": [
    {
     "data": {
      "text/plain": [
       "[[1900, 30000.0, 4000.0, 48300.0],\n",
       " [1901, 47200.0, 6100.0, 48200.0],\n",
       " [1902, 70200.0, 9800.0, 41500.0],\n",
       " [1903, 77400.0, 35200.0, 38200.0],\n",
       " [1904, 36300.0, 59400.0, 40600.0],\n",
       " [1905, 20600.0, 41700.0, 39800.0],\n",
       " [1906, 18100.0, 19000.0, 38600.0],\n",
       " [1907, 21400.0, 13000.0, 42300.0],\n",
       " [1908, 22000.0, 8300.0, 44500.0],\n",
       " [1909, 25400.0, 9100.0, 42100.0],\n",
       " [1910, 27100.0, 7400.0, 46000.0],\n",
       " [1911, 40300.0, 8000.0, 46800.0],\n",
       " [1912, 57000.0, 12300.0, 43800.0],\n",
       " [1913, 76600.0, 19500.0, 40900.0],\n",
       " [1914, 52300.0, 45700.0, 39400.0],\n",
       " [1915, 19500.0, 51100.0, 39000.0],\n",
       " [1916, 11200.0, 29700.0, 36700.0],\n",
       " [1917, 7600.0, 15800.0, 41800.0],\n",
       " [1918, 14600.0, 9700.0, 43300.0],\n",
       " [1919, 16200.0, 10100.0, 41300.0],\n",
       " [1920, 24700.0, 8600.0, 47300.0]]"
      ]
     },
     "execution_count": 20,
     "metadata": {},
     "output_type": "execute_result"
    }
   ],
   "source": [
    "poptable"
   ]
  },
  {
   "cell_type": "code",
   "execution_count": 21,
   "metadata": {
    "collapsed": false
   },
   "outputs": [
    {
     "data": {
      "text/plain": [
       "[[1900, 30000.0, 4000.0, 48300.0],\n",
       " [1901, 47200.0, 6100.0, 48200.0],\n",
       " [1902, 70200.0, 9800.0, 41500.0],\n",
       " [1903, 77400.0, 35200.0, 38200.0],\n",
       " [1904, 36300.0, 59400.0, 40600.0]]"
      ]
     },
     "execution_count": 21,
     "metadata": {},
     "output_type": "execute_result"
    }
   ],
   "source": [
    "#printing the top 5 elements of poptable from index 0 up to index 5\n",
    "poptable[0:5]"
   ]
  },
  {
   "cell_type": "code",
   "execution_count": 22,
   "metadata": {
    "collapsed": true
   },
   "outputs": [],
   "source": [
    "hares = {}\n",
    "lynxes = {}\n",
    "carrots = {}\n",
    "\n",
    "for row in poptable:\n",
    "    hares[row[0]] = row[1]\n",
    "    lynxes[row[0]] = row[2]\n",
    "    carrots[row[0]] = row[3]"
   ]
  },
  {
   "cell_type": "code",
   "execution_count": 23,
   "metadata": {
    "collapsed": false
   },
   "outputs": [
    {
     "data": {
      "text/plain": [
       "{1900: 30000.0,\n",
       " 1901: 47200.0,\n",
       " 1902: 70200.0,\n",
       " 1903: 77400.0,\n",
       " 1904: 36300.0,\n",
       " 1905: 20600.0,\n",
       " 1906: 18100.0,\n",
       " 1907: 21400.0,\n",
       " 1908: 22000.0,\n",
       " 1909: 25400.0,\n",
       " 1910: 27100.0,\n",
       " 1911: 40300.0,\n",
       " 1912: 57000.0,\n",
       " 1913: 76600.0,\n",
       " 1914: 52300.0,\n",
       " 1915: 19500.0,\n",
       " 1916: 11200.0,\n",
       " 1917: 7600.0,\n",
       " 1918: 14600.0,\n",
       " 1919: 16200.0,\n",
       " 1920: 24700.0}"
      ]
     },
     "execution_count": 23,
     "metadata": {},
     "output_type": "execute_result"
    }
   ],
   "source": [
    "hares"
   ]
  },
  {
   "cell_type": "code",
   "execution_count": 24,
   "metadata": {
    "collapsed": false
   },
   "outputs": [
    {
     "data": {
      "text/plain": [
       "[1920,\n",
       " 1900,\n",
       " 1901,\n",
       " 1902,\n",
       " 1903,\n",
       " 1904,\n",
       " 1905,\n",
       " 1906,\n",
       " 1907,\n",
       " 1908,\n",
       " 1909,\n",
       " 1910,\n",
       " 1911,\n",
       " 1912,\n",
       " 1913,\n",
       " 1914,\n",
       " 1915,\n",
       " 1916,\n",
       " 1917,\n",
       " 1918,\n",
       " 1919]"
      ]
     },
     "execution_count": 24,
     "metadata": {},
     "output_type": "execute_result"
    }
   ],
   "source": [
    "hares.keys()"
   ]
  },
  {
   "cell_type": "code",
   "execution_count": 25,
   "metadata": {
    "collapsed": false
   },
   "outputs": [
    {
     "data": {
      "text/plain": [
       "[24700.0,\n",
       " 30000.0,\n",
       " 47200.0,\n",
       " 70200.0,\n",
       " 77400.0,\n",
       " 36300.0,\n",
       " 20600.0,\n",
       " 18100.0,\n",
       " 21400.0,\n",
       " 22000.0,\n",
       " 25400.0,\n",
       " 27100.0,\n",
       " 40300.0,\n",
       " 57000.0,\n",
       " 76600.0,\n",
       " 52300.0,\n",
       " 19500.0,\n",
       " 11200.0,\n",
       " 7600.0,\n",
       " 14600.0,\n",
       " 16200.0]"
      ]
     },
     "execution_count": 25,
     "metadata": {},
     "output_type": "execute_result"
    }
   ],
   "source": [
    "hares.values()"
   ]
  },
  {
   "cell_type": "code",
   "execution_count": 26,
   "metadata": {
    "collapsed": false
   },
   "outputs": [
    {
     "data": {
      "text/plain": [
       "[(1920, 24700.0),\n",
       " (1900, 30000.0),\n",
       " (1901, 47200.0),\n",
       " (1902, 70200.0),\n",
       " (1903, 77400.0),\n",
       " (1904, 36300.0),\n",
       " (1905, 20600.0),\n",
       " (1906, 18100.0),\n",
       " (1907, 21400.0),\n",
       " (1908, 22000.0),\n",
       " (1909, 25400.0),\n",
       " (1910, 27100.0),\n",
       " (1911, 40300.0),\n",
       " (1912, 57000.0),\n",
       " (1913, 76600.0),\n",
       " (1914, 52300.0),\n",
       " (1915, 19500.0),\n",
       " (1916, 11200.0),\n",
       " (1917, 7600.0),\n",
       " (1918, 14600.0),\n",
       " (1919, 16200.0)]"
      ]
     },
     "execution_count": 26,
     "metadata": {},
     "output_type": "execute_result"
    }
   ],
   "source": [
    "hares.items()"
   ]
  },
  {
   "cell_type": "code",
   "execution_count": 27,
   "metadata": {
    "collapsed": true
   },
   "outputs": [],
   "source": [
    "hares_above_50k = [yr for yr in hares.keys() if hares[yr] > 50000.0]"
   ]
  },
  {
   "cell_type": "code",
   "execution_count": 28,
   "metadata": {
    "collapsed": false
   },
   "outputs": [
    {
     "data": {
      "text/plain": [
       "[1902, 1903, 1912, 1913, 1914]"
      ]
     },
     "execution_count": 28,
     "metadata": {},
     "output_type": "execute_result"
    }
   ],
   "source": [
    "hares_above_50k"
   ]
  },
  {
   "cell_type": "code",
   "execution_count": 29,
   "metadata": {
    "collapsed": false
   },
   "outputs": [
    {
     "name": "stdout",
     "output_type": "stream",
     "text": [
      "1903 77400.0\n"
     ]
    }
   ],
   "source": [
    "maxhares = [yr for yr in hares.keys() if hares[yr] == max(hares.values())]\n",
    "for i in range(0, len(maxhares)):\n",
    "    print maxhares[i], hares[maxhares[i]]"
   ]
  },
  {
   "cell_type": "code",
   "execution_count": 30,
   "metadata": {
    "collapsed": false
   },
   "outputs": [
    {
     "data": {
      "text/plain": [
       "array([[  1900.,  30000.,   4000.,  48300.],\n",
       "       [  1901.,  47200.,   6100.,  48200.],\n",
       "       [  1902.,  70200.,   9800.,  41500.],\n",
       "       [  1903.,  77400.,  35200.,  38200.],\n",
       "       [  1904.,  36300.,  59400.,  40600.],\n",
       "       [  1905.,  20600.,  41700.,  39800.],\n",
       "       [  1906.,  18100.,  19000.,  38600.],\n",
       "       [  1907.,  21400.,  13000.,  42300.],\n",
       "       [  1908.,  22000.,   8300.,  44500.],\n",
       "       [  1909.,  25400.,   9100.,  42100.],\n",
       "       [  1910.,  27100.,   7400.,  46000.],\n",
       "       [  1911.,  40300.,   8000.,  46800.],\n",
       "       [  1912.,  57000.,  12300.,  43800.],\n",
       "       [  1913.,  76600.,  19500.,  40900.],\n",
       "       [  1914.,  52300.,  45700.,  39400.],\n",
       "       [  1915.,  19500.,  51100.,  39000.],\n",
       "       [  1916.,  11200.,  29700.,  36700.],\n",
       "       [  1917.,   7600.,  15800.,  41800.],\n",
       "       [  1918.,  14600.,   9700.,  43300.],\n",
       "       [  1919.,  16200.,  10100.,  41300.],\n",
       "       [  1920.,  24700.,   8600.,  47300.]])"
      ]
     },
     "execution_count": 30,
     "metadata": {},
     "output_type": "execute_result"
    }
   ],
   "source": [
    "pop = np.array(poptable)\n",
    "pop"
   ]
  },
  {
   "cell_type": "code",
   "execution_count": 31,
   "metadata": {
    "collapsed": false
   },
   "outputs": [
    {
     "data": {
      "text/plain": [
       "array([[  1900.,  30000.,   4000.,  48300.],\n",
       "       [  1901.,  47200.,   6100.,  48200.],\n",
       "       [  1902.,  70200.,   9800.,  41500.],\n",
       "       [  1903.,  77400.,  35200.,  38200.],\n",
       "       [  1904.,  36300.,  59400.,  40600.],\n",
       "       [  1905.,  20600.,  41700.,  39800.],\n",
       "       [  1906.,  18100.,  19000.,  38600.],\n",
       "       [  1907.,  21400.,  13000.,  42300.],\n",
       "       [  1908.,  22000.,   8300.,  44500.],\n",
       "       [  1909.,  25400.,   9100.,  42100.],\n",
       "       [  1910.,  27100.,   7400.,  46000.],\n",
       "       [  1911.,  40300.,   8000.,  46800.],\n",
       "       [  1912.,  57000.,  12300.,  43800.],\n",
       "       [  1913.,  76600.,  19500.,  40900.],\n",
       "       [  1914.,  52300.,  45700.,  39400.],\n",
       "       [  1915.,  19500.,  51100.,  39000.],\n",
       "       [  1916.,  11200.,  29700.,  36700.],\n",
       "       [  1917.,   7600.,  15800.,  41800.],\n",
       "       [  1918.,  14600.,   9700.,  43300.],\n",
       "       [  1919.,  16200.,  10100.,  41300.],\n",
       "       [  1920.,  24700.,   8600.,  47300.]])"
      ]
     },
     "execution_count": 31,
     "metadata": {},
     "output_type": "execute_result"
    }
   ],
   "source": [
    "poptable = np.loadtxt(\"populations.txt\", skiprows=1)\n",
    "poptable"
   ]
  },
  {
   "cell_type": "code",
   "execution_count": 32,
   "metadata": {
    "collapsed": false
   },
   "outputs": [
    {
     "data": {
      "text/plain": [
       "(21, 4)"
      ]
     },
     "execution_count": 32,
     "metadata": {},
     "output_type": "execute_result"
    }
   ],
   "source": [
    "poptable.shape"
   ]
  },
  {
   "cell_type": "code",
   "execution_count": 33,
   "metadata": {
    "collapsed": false
   },
   "outputs": [
    {
     "data": {
      "text/plain": [
       "array([[  1900.,   1901.,   1902.,   1903.,   1904.,   1905.,   1906.,\n",
       "          1907.,   1908.,   1909.,   1910.,   1911.,   1912.,   1913.,\n",
       "          1914.,   1915.,   1916.,   1917.,   1918.,   1919.,   1920.],\n",
       "       [ 30000.,  47200.,  70200.,  77400.,  36300.,  20600.,  18100.,\n",
       "         21400.,  22000.,  25400.,  27100.,  40300.,  57000.,  76600.,\n",
       "         52300.,  19500.,  11200.,   7600.,  14600.,  16200.,  24700.],\n",
       "       [  4000.,   6100.,   9800.,  35200.,  59400.,  41700.,  19000.,\n",
       "         13000.,   8300.,   9100.,   7400.,   8000.,  12300.,  19500.,\n",
       "         45700.,  51100.,  29700.,  15800.,   9700.,  10100.,   8600.],\n",
       "       [ 48300.,  48200.,  41500.,  38200.,  40600.,  39800.,  38600.,\n",
       "         42300.,  44500.,  42100.,  46000.,  46800.,  43800.,  40900.,\n",
       "         39400.,  39000.,  36700.,  41800.,  43300.,  41300.,  47300.]])"
      ]
     },
     "execution_count": 33,
     "metadata": {},
     "output_type": "execute_result"
    }
   ],
   "source": [
    "poptable.T"
   ]
  },
  {
   "cell_type": "code",
   "execution_count": null,
   "metadata": {
    "collapsed": true
   },
   "outputs": [],
   "source": []
  }
 ],
 "metadata": {
  "kernelspec": {
   "display_name": "Python 2",
   "language": "python",
   "name": "python2"
  },
  "language_info": {
   "codemirror_mode": {
    "name": "ipython",
    "version": 2
   },
   "file_extension": ".py",
   "mimetype": "text/x-python",
   "name": "python",
   "nbconvert_exporter": "python",
   "pygments_lexer": "ipython2",
   "version": "2.7.13"
  }
 },
 "nbformat": 4,
 "nbformat_minor": 2
}
