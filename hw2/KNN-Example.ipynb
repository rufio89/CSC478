{
 "cells": [
  {
   "cell_type": "code",
   "execution_count": 2,
   "metadata": {
    "collapsed": true
   },
   "outputs": [],
   "source": [
    "import numpy as np\n",
    "import pandas as pd\n",
    "import matplotlib.pyplot as plt\n",
    "%matplotlib inline\n",
    "import os"
   ]
  },
  {
   "cell_type": "code",
   "execution_count": 3,
   "metadata": {
    "collapsed": false
   },
   "outputs": [
    {
     "data": {
      "text/plain": [
       "'/home/ryan/Documents/CSC478/hw2'"
      ]
     },
     "execution_count": 3,
     "metadata": {},
     "output_type": "execute_result"
    }
   ],
   "source": [
    "#GET CURRENT WORKING DIR\n",
    "os.getcwd()"
   ]
  },
  {
   "cell_type": "code",
   "execution_count": 6,
   "metadata": {
    "collapsed": false
   },
   "outputs": [
    {
     "data": {
      "text/plain": [
       "array([(1, 'M', 45000.0, 25, 32, 2.5, 'Action', 'Yes'),\n",
       "       (2, 'F', 54000.0, 33, 12, 3.4, 'Drama', 'No'),\n",
       "       (3, 'F', 32000.0, 20, 42, 1.6, 'Comedy', 'No'),\n",
       "       (4, 'F', 59000.0, 70, 16, 4.2, 'Drama', 'Yes'),\n",
       "       (5, 'M', 37000.0, 35, 25, 3.2, 'Action', 'Yes'),\n",
       "       (6, 'M', 18000.0, 20, 29, 1.7, 'Action', 'No'),\n",
       "       (7, 'F', 29000.0, 45, 19, 3.8, 'Drama', 'No'),\n",
       "       (8, 'M', 74000.0, 25, 31, 2.4, 'Action', 'Yes'),\n",
       "       (9, 'M', 38000.0, 21, 18, 2.1, 'Comedy', 'No'),\n",
       "       (10, 'F', 65000.0, 40, 21, 3.3, 'Drama', 'No'),\n",
       "       (11, 'F', 41000.0, 22, 48, 2.3, 'Drama', 'Yes'),\n",
       "       (12, 'F', 26000.0, 22, 32, 2.9, 'Action', 'Yes'),\n",
       "       (13, 'M', 83000.0, 46, 14, 3.6, 'Comedy', 'No'),\n",
       "       (14, 'M', 45000.0, 36, 24, 2.7, 'Drama', 'No'),\n",
       "       (15, 'M', 68000.0, 30, 36, 2.7, 'Comedy', 'Yes'),\n",
       "       (16, 'M', 17000.0, 19, 26, 2.2, 'Action', 'Yes'),\n",
       "       (17, 'M', 36000.0, 35, 28, 3.5, 'Drama', 'Yes'),\n",
       "       (18, 'F', 6000.0, 16, 39, 1.8, 'Action', 'Yes'),\n",
       "       (19, 'F', 24000.0, 25, 41, 3.1, 'Comedy', 'No'),\n",
       "       (20, 'M', 12000.0, 16, 23, 2.2, 'Action', 'Yes'),\n",
       "       (21, 'F', 47000.0, 52, 11, 3.1, 'Drama', 'No'),\n",
       "       (22, 'M', 25000.0, 33, 16, 2.9, 'Drama', 'Yes'),\n",
       "       (23, 'F', 2000.0, 15, 30, 2.5, 'Comedy', 'No'),\n",
       "       (24, 'F', 79000.0, 35, 22, 3.8, 'Drama', 'Yes'),\n",
       "       (25, 'M', 1000.0, 16, 25, 1.4, 'Comedy', 'Yes'),\n",
       "       (26, 'F', 56000.0, 35, 40, 2.6, 'Action', 'Yes'),\n",
       "       (27, 'F', 62000.0, 47, 32, 3.6, 'Drama', 'No'),\n",
       "       (28, 'M', 57000.0, 52, 22, 4.1, 'Comedy', 'No'),\n",
       "       (29, 'F', 15000.0, 18, 37, 2.1, 'Action', 'Yes'),\n",
       "       (30, 'M', 41000.0, 25, 17, 1.4, 'Action', 'Yes'),\n",
       "       (31, 'F', 49000.0, 56, 15, 3.2, 'Comedy', 'No'),\n",
       "       (32, 'M', 47000.0, 30, 21, 3.1, 'Drama', 'Yes'),\n",
       "       (33, 'M', 23000.0, 25, 28, 2.7, 'Action', 'No'),\n",
       "       (34, 'F', 29000.0, 32, 19, 2.9, 'Action', 'Yes'),\n",
       "       (35, 'M', 74000.0, 29, 43, 4.6, 'Action', 'Yes'),\n",
       "       (36, 'F', 29000.0, 21, 34, 2.3, 'Comedy', 'No'),\n",
       "       (37, 'M', 89000.0, 46, 12, 1.2, 'Comedy', 'No'),\n",
       "       (38, 'M', 41000.0, 38, 20, 3.3, 'Drama', 'Yes'),\n",
       "       (39, 'F', 68000.0, 35, 19, 3.9, 'Comedy', 'No'),\n",
       "       (40, 'M', 17000.0, 19, 32, 1.8, 'Action', 'No'),\n",
       "       (41, 'F', 50000.0, 33, 17, 1.4, 'Drama', 'No'),\n",
       "       (42, 'M', 32000.0, 25, 26, 2.2, 'Action', 'Yes'),\n",
       "       (43, 'F', 49000.0, 28, 48, 3.3, 'Drama', 'Yes'),\n",
       "       (44, 'M', 35000.0, 24, 24, 1.7, 'Drama', 'No'),\n",
       "       (45, 'M', 56000.0, 38, 30, 3.5, 'Drama', 'Yes'),\n",
       "       (46, 'F', 57000.0, 43, 9, 1.1, 'Drama', 'No'),\n",
       "       (47, 'F', 69000.0, 35, 22, 2.8, 'Drama', 'Yes'),\n",
       "       (48, 'F', 52000.0, 47, 14, 1.6, 'Drama', 'No'),\n",
       "       (49, 'M', 31000.0, 25, 42, 3.4, 'Action', 'Yes'),\n",
       "       (50, 'M', 24000.0, 20, 33, 4.7, 'Action', 'No')], \n",
       "      dtype=[('Cust_ID', '<i8'), ('Gender', 'S1'), ('Income', '<f8'), ('Age', '<i8'), ('Rentals', '<i8'), ('Avg_Per_Visit', '<f8'), ('Genre', 'S10'), ('Incidentals', 'S3')])"
      ]
     },
     "execution_count": 6,
     "metadata": {},
     "output_type": "execute_result"
    }
   ],
   "source": [
    "vs = np.genfromtxt(\"video_store_2.csv\", delimiter=\",\", names=True, dtype=(int, \"|S1\", float, int, int, float, \"|S10\", \"|S3\"))\n",
    "vs"
   ]
  },
  {
   "cell_type": "code",
   "execution_count": 8,
   "metadata": {
    "collapsed": false
   },
   "outputs": [
    {
     "data": {
      "text/plain": [
       "array([('M', 45000.0, 25, 32, 2.5, 'Action'),\n",
       "       ('F', 54000.0, 33, 12, 3.4, 'Drama'),\n",
       "       ('F', 32000.0, 20, 42, 1.6, 'Comedy'),\n",
       "       ('F', 59000.0, 70, 16, 4.2, 'Drama'),\n",
       "       ('M', 37000.0, 35, 25, 3.2, 'Action'),\n",
       "       ('M', 18000.0, 20, 29, 1.7, 'Action'),\n",
       "       ('F', 29000.0, 45, 19, 3.8, 'Drama'),\n",
       "       ('M', 74000.0, 25, 31, 2.4, 'Action'),\n",
       "       ('M', 38000.0, 21, 18, 2.1, 'Comedy'),\n",
       "       ('F', 65000.0, 40, 21, 3.3, 'Drama'),\n",
       "       ('F', 41000.0, 22, 48, 2.3, 'Drama'),\n",
       "       ('F', 26000.0, 22, 32, 2.9, 'Action'),\n",
       "       ('M', 83000.0, 46, 14, 3.6, 'Comedy'),\n",
       "       ('M', 45000.0, 36, 24, 2.7, 'Drama'),\n",
       "       ('M', 68000.0, 30, 36, 2.7, 'Comedy'),\n",
       "       ('M', 17000.0, 19, 26, 2.2, 'Action'),\n",
       "       ('M', 36000.0, 35, 28, 3.5, 'Drama'),\n",
       "       ('F', 6000.0, 16, 39, 1.8, 'Action'),\n",
       "       ('F', 24000.0, 25, 41, 3.1, 'Comedy'),\n",
       "       ('M', 12000.0, 16, 23, 2.2, 'Action'),\n",
       "       ('F', 47000.0, 52, 11, 3.1, 'Drama'),\n",
       "       ('M', 25000.0, 33, 16, 2.9, 'Drama'),\n",
       "       ('F', 2000.0, 15, 30, 2.5, 'Comedy'),\n",
       "       ('F', 79000.0, 35, 22, 3.8, 'Drama'),\n",
       "       ('M', 1000.0, 16, 25, 1.4, 'Comedy'),\n",
       "       ('F', 56000.0, 35, 40, 2.6, 'Action'),\n",
       "       ('F', 62000.0, 47, 32, 3.6, 'Drama'),\n",
       "       ('M', 57000.0, 52, 22, 4.1, 'Comedy'),\n",
       "       ('F', 15000.0, 18, 37, 2.1, 'Action'),\n",
       "       ('M', 41000.0, 25, 17, 1.4, 'Action'),\n",
       "       ('F', 49000.0, 56, 15, 3.2, 'Comedy'),\n",
       "       ('M', 47000.0, 30, 21, 3.1, 'Drama'),\n",
       "       ('M', 23000.0, 25, 28, 2.7, 'Action'),\n",
       "       ('F', 29000.0, 32, 19, 2.9, 'Action'),\n",
       "       ('M', 74000.0, 29, 43, 4.6, 'Action'),\n",
       "       ('F', 29000.0, 21, 34, 2.3, 'Comedy'),\n",
       "       ('M', 89000.0, 46, 12, 1.2, 'Comedy'),\n",
       "       ('M', 41000.0, 38, 20, 3.3, 'Drama'),\n",
       "       ('F', 68000.0, 35, 19, 3.9, 'Comedy'),\n",
       "       ('M', 17000.0, 19, 32, 1.8, 'Action'),\n",
       "       ('F', 50000.0, 33, 17, 1.4, 'Drama'),\n",
       "       ('M', 32000.0, 25, 26, 2.2, 'Action'),\n",
       "       ('F', 49000.0, 28, 48, 3.3, 'Drama'),\n",
       "       ('M', 35000.0, 24, 24, 1.7, 'Drama'),\n",
       "       ('M', 56000.0, 38, 30, 3.5, 'Drama'),\n",
       "       ('F', 57000.0, 43, 9, 1.1, 'Drama'),\n",
       "       ('F', 69000.0, 35, 22, 2.8, 'Drama'),\n",
       "       ('F', 52000.0, 47, 14, 1.6, 'Drama'),\n",
       "       ('M', 31000.0, 25, 42, 3.4, 'Action'),\n",
       "       ('M', 24000.0, 20, 33, 4.7, 'Action')], \n",
       "      dtype=[('Gender', 'S1'), ('Income', '<f8'), ('Age', '<i8'), ('Rentals', '<i8'), ('Avg_Per_Visit', '<f8'), ('Genre', 'S10')])"
      ]
     },
     "execution_count": 8,
     "metadata": {},
     "output_type": "execute_result"
    }
   ],
   "source": [
    "vs_records = vs[['Gender', 'Income', 'Age', 'Rentals', 'Avg_Per_Visit', 'Genre']]\n",
    "vs_records"
   ]
  },
  {
   "cell_type": "code",
   "execution_count": 9,
   "metadata": {
    "collapsed": false
   },
   "outputs": [
    {
     "data": {
      "text/plain": [
       "('Gender', 'Income', 'Age', 'Rentals', 'Avg_Per_Visit', 'Genre')"
      ]
     },
     "execution_count": 9,
     "metadata": {},
     "output_type": "execute_result"
    }
   ],
   "source": [
    "vs_names = vs_records.dtype.names\n",
    "vs_names"
   ]
  },
  {
   "cell_type": "code",
   "execution_count": 10,
   "metadata": {
    "collapsed": false
   },
   "outputs": [
    {
     "data": {
      "text/plain": [
       "array(['Yes', 'No', 'No', 'Yes', 'Yes', 'No', 'No', 'Yes', 'No', 'No',\n",
       "       'Yes', 'Yes', 'No', 'No', 'Yes', 'Yes', 'Yes', 'Yes', 'No', 'Yes',\n",
       "       'No', 'Yes', 'No', 'Yes', 'Yes', 'Yes', 'No', 'No', 'Yes', 'Yes',\n",
       "       'No', 'Yes', 'No', 'Yes', 'Yes', 'No', 'No', 'Yes', 'No', 'No',\n",
       "       'No', 'Yes', 'Yes', 'No', 'Yes', 'No', 'Yes', 'No', 'Yes', 'No'], \n",
       "      dtype='|S3')"
      ]
     },
     "execution_count": 10,
     "metadata": {},
     "output_type": "execute_result"
    }
   ],
   "source": [
    "vs_target = vs[\"Incidentals\"]\n",
    "vs_target"
   ]
  },
  {
   "cell_type": "code",
   "execution_count": 12,
   "metadata": {
    "collapsed": false
   },
   "outputs": [
    {
     "data": {
      "text/plain": [
       "[{'Age': 25,\n",
       "  'Avg_Per_Visit': 2.5,\n",
       "  'Gender': 'M',\n",
       "  'Genre': 'Action',\n",
       "  'Income': 45000.0,\n",
       "  'Rentals': 32},\n",
       " {'Age': 33,\n",
       "  'Avg_Per_Visit': 3.3999999999999999,\n",
       "  'Gender': 'F',\n",
       "  'Genre': 'Drama',\n",
       "  'Income': 54000.0,\n",
       "  'Rentals': 12},\n",
       " {'Age': 20,\n",
       "  'Avg_Per_Visit': 1.6000000000000001,\n",
       "  'Gender': 'F',\n",
       "  'Genre': 'Comedy',\n",
       "  'Income': 32000.0,\n",
       "  'Rentals': 42},\n",
       " {'Age': 70,\n",
       "  'Avg_Per_Visit': 4.2000000000000002,\n",
       "  'Gender': 'F',\n",
       "  'Genre': 'Drama',\n",
       "  'Income': 59000.0,\n",
       "  'Rentals': 16},\n",
       " {'Age': 35,\n",
       "  'Avg_Per_Visit': 3.2000000000000002,\n",
       "  'Gender': 'M',\n",
       "  'Genre': 'Action',\n",
       "  'Income': 37000.0,\n",
       "  'Rentals': 25}]"
      ]
     },
     "execution_count": 12,
     "metadata": {},
     "output_type": "execute_result"
    }
   ],
   "source": [
    "vs_dict = [dict(zip(vs_names, record)) for record in vs_records]\n",
    "vs_dict[:5]"
   ]
  },
  {
   "cell_type": "code",
   "execution_count": 13,
   "metadata": {
    "collapsed": true
   },
   "outputs": [],
   "source": [
    "from sklearn.feature_extraction import DictVectorizer"
   ]
  },
  {
   "cell_type": "code",
   "execution_count": 14,
   "metadata": {
    "collapsed": true
   },
   "outputs": [],
   "source": [
    "vs_vec = DictVectorizer()\n",
    "vs_matrix = vs_vec.fit_transform(vs_dict).toarray()"
   ]
  },
  {
   "cell_type": "code",
   "execution_count": 16,
   "metadata": {
    "collapsed": false
   },
   "outputs": [
    {
     "data": {
      "text/plain": [
       "['Age',\n",
       " 'Avg_Per_Visit',\n",
       " 'Gender=F',\n",
       " 'Gender=M',\n",
       " 'Genre=Action',\n",
       " 'Genre=Comedy',\n",
       " 'Genre=Drama',\n",
       " 'Income',\n",
       " 'Rentals']"
      ]
     },
     "execution_count": 16,
     "metadata": {},
     "output_type": "execute_result"
    }
   ],
   "source": [
    "vs_vec.get_feature_names()"
   ]
  },
  {
   "cell_type": "code",
   "execution_count": 20,
   "metadata": {
    "collapsed": false
   },
   "outputs": [
    {
     "name": "stderr",
     "output_type": "stream",
     "text": [
      "/home/ryan/anaconda2/lib/python2.7/site-packages/ipykernel/__main__.py:3: VisibleDeprecationWarning: using a non-integer number instead of an integer will result in an error in the future\n",
      "  app.launch_new_instance()\n",
      "/home/ryan/anaconda2/lib/python2.7/site-packages/ipykernel/__main__.py:4: VisibleDeprecationWarning: using a non-integer number instead of an integer will result in an error in the future\n"
     ]
    }
   ],
   "source": [
    "tpercent = 0.8\n",
    "tsize = tpercent *len(vs_matrix)\n",
    "vs_train = vs_matrix[:tsize, :]\n",
    "vs_test = vs_matrix[tsize:, :]"
   ]
  },
  {
   "cell_type": "code",
   "execution_count": 21,
   "metadata": {
    "collapsed": true
   },
   "outputs": [],
   "source": [
    "from sklearn import preprocessing"
   ]
  },
  {
   "cell_type": "code",
   "execution_count": 22,
   "metadata": {
    "collapsed": true
   },
   "outputs": [],
   "source": [
    "min_max_scaler = preprocessing.MinMaxScaler()"
   ]
  },
  {
   "cell_type": "code",
   "execution_count": 23,
   "metadata": {
    "collapsed": true
   },
   "outputs": [],
   "source": [
    "vs_train_norm = min_max_scaler.fit_transform(vs_train)\n",
    "vs_test_norm = min_max_scaler.fit_transform(vs_test)"
   ]
  },
  {
   "cell_type": "code",
   "execution_count": 24,
   "metadata": {
    "collapsed": false
   },
   "outputs": [
    {
     "data": {
      "text/plain": [
       "array([ 0.18181818,  0.38235294,  0.        ,  1.        ,  1.        ,\n",
       "        0.        ,  0.        ,  0.5       ,  0.56756757])"
      ]
     },
     "execution_count": 24,
     "metadata": {},
     "output_type": "execute_result"
    }
   ],
   "source": [
    "vs_train_norm[0]"
   ]
  },
  {
   "cell_type": "code",
   "execution_count": 27,
   "metadata": {
    "collapsed": false
   },
   "outputs": [
    {
     "name": "stderr",
     "output_type": "stream",
     "text": [
      "/home/ryan/anaconda2/lib/python2.7/site-packages/ipykernel/__main__.py:1: VisibleDeprecationWarning: using a non-integer number instead of an integer will result in an error in the future\n",
      "  if __name__ == '__main__':\n",
      "/home/ryan/anaconda2/lib/python2.7/site-packages/ipykernel/__main__.py:2: VisibleDeprecationWarning: using a non-integer number instead of an integer will result in an error in the future\n",
      "  from ipykernel import kernelapp as app\n"
     ]
    },
    {
     "data": {
      "text/plain": [
       "array(['No', 'Yes', 'Yes', 'No', 'Yes', 'No', 'Yes', 'No', 'Yes', 'No'], \n",
       "      dtype='|S3')"
      ]
     },
     "execution_count": 27,
     "metadata": {},
     "output_type": "execute_result"
    }
   ],
   "source": [
    "vs_target_train = vs_target[:tsize]\n",
    "vs_target_test = vs_target[tsize:]\n",
    "vs_target_test"
   ]
  },
  {
   "cell_type": "code",
   "execution_count": 34,
   "metadata": {
    "collapsed": true
   },
   "outputs": [],
   "source": [
    "def knn_search(x, D, K, measure):\n",
    "    \"\"\" FIND K NEAREST NEIGBORS OF DATA MONG K\"\"\"\n",
    "    if measure == 0:\n",
    "        #EUCLIDEAN DISTANCES FROM OTHER POINTS\n",
    "        dists = sqrt(((D-x)**2).sum(axis=0))\n",
    "    elif measure ==1:\n",
    "        D_norm = np.array([np.linalg.norm(D[i]) for i in range(len(D))])\n",
    "        x_norm = np.linalg.norm(x)\n",
    "        sims = np.dot(D,x)/ (D_norm * x_norm)\n",
    "        dists = 1 - sims\n",
    "    idx = np.argsort(dists)\n",
    "    return idx[:K], dists"
   ]
  },
  {
   "cell_type": "code",
   "execution_count": 35,
   "metadata": {
    "collapsed": false
   },
   "outputs": [],
   "source": [
    "neigh_idx, distances = knn_search(vs_test_norm[0], vs_train_norm, 5,1)"
   ]
  },
  {
   "cell_type": "code",
   "execution_count": 41,
   "metadata": {
    "collapsed": false
   },
   "outputs": [
    {
     "data": {
      "text/plain": [
       "array([ 1.65872981,  1.699781  ,  1.68765328,  2.05699029,  1.66996339,\n",
       "        1.51785344,  1.74077134,  1.77142741,  1.51477543,  1.78607701,\n",
       "        1.82413848,  1.63371936,  1.92114942,  1.64738264,  1.81802889,\n",
       "        1.51301217,  1.72021331,  1.61473885,  1.75244592,  1.48581528,\n",
       "        1.74301162,  1.56516744,  1.5524236 ,  1.89500202,  1.46525117,\n",
       "        1.81843988,  1.90772542,  1.91661551,  1.6100141 ,  1.50646148,\n",
       "        1.79190716,  1.65316476,  1.58154909,  1.57909034,  2.1215396 ,\n",
       "        1.6137612 ,  1.82165211,  1.67992344,  1.84099926,  1.54648696])"
      ]
     },
     "execution_count": 41,
     "metadata": {},
     "output_type": "execute_result"
    }
   ],
   "source": [
    "D = vs_train_norm\n",
    "np.array([np.linalg.norm(D[i]) for i in range(len(D))])"
   ]
  },
  {
   "cell_type": "code",
   "execution_count": 42,
   "metadata": {
    "collapsed": false
   },
   "outputs": [
    {
     "data": {
      "text/plain": [
       "array([ 0.8043673 ,  0.06676883,  0.47636037,  0.10901649,  0.80073364,\n",
       "        0.89103717,  0.09246662,  0.75313174,  0.85452615,  0.04920578,\n",
       "        0.13345044,  0.47628305,  0.71504173,  0.40627743,  0.74604015,\n",
       "        0.89873949,  0.44078379,  0.53599812,  0.4877924 ,  0.92840363,\n",
       "        0.05178285,  0.45293945,  0.54436441,  0.08233586,  0.96147719,\n",
       "        0.41120933,  0.07420151,  0.7342359 ,  0.50664818,  0.84058139,\n",
       "        0.39766472,  0.4256452 ,  0.85805686,  0.44439223,  0.74855313,\n",
       "        0.46699893,  0.70983791,  0.42375076,  0.42036374,  0.89154978])"
      ]
     },
     "execution_count": 42,
     "metadata": {},
     "output_type": "execute_result"
    }
   ],
   "source": [
    "distances"
   ]
  },
  {
   "cell_type": "code",
   "execution_count": null,
   "metadata": {
    "collapsed": true
   },
   "outputs": [],
   "source": []
  }
 ],
 "metadata": {
  "kernelspec": {
   "display_name": "Python 2",
   "language": "python",
   "name": "python2"
  },
  "language_info": {
   "codemirror_mode": {
    "name": "ipython",
    "version": 2
   },
   "file_extension": ".py",
   "mimetype": "text/x-python",
   "name": "python",
   "nbconvert_exporter": "python",
   "pygments_lexer": "ipython2",
   "version": "2.7.13"
  }
 },
 "nbformat": 4,
 "nbformat_minor": 2
}
